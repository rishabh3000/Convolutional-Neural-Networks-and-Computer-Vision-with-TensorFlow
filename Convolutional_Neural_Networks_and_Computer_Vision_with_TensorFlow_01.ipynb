{
  "nbformat": 4,
  "nbformat_minor": 0,
  "metadata": {
    "colab": {
      "name": "Convolutional Neural Networks and Computer Vision with TensorFlow_01.ipynb",
      "provenance": [],
      "collapsed_sections": []
    },
    "kernelspec": {
      "name": "python3",
      "display_name": "Python 3"
    },
    "language_info": {
      "name": "python"
    },
    "accelerator": "GPU"
  },
  "cells": [
    {
      "cell_type": "code",
      "metadata": {
        "id": "iGp9dAKhdf9j"
      },
      "source": [
        ""
      ],
      "execution_count": null,
      "outputs": []
    },
    {
      "cell_type": "markdown",
      "metadata": {
        "id": "CFDt3fU6fTUj"
      },
      "source": [
        "**Introduction to Convolutional Neural Networks and Computer Vision with TensorFlow**"
      ]
    },
    {
      "cell_type": "code",
      "metadata": {
        "id": "E0hgwHzLd4xU",
        "colab": {
          "base_uri": "https://localhost:8080/"
        },
        "outputId": "b645ddcd-4103-4fc2-a80f-e7ad0d11f6f9"
      },
      "source": [
        " # Data\n",
        "\n",
        "import zipfile\n",
        "\n",
        "# Download zip file of pizza_steak images\n",
        "!wget https://storage.googleapis.com/ztm_tf_course/food_vision/pizza_steak.zip \n",
        "\n",
        "# unzip the downloaded file\n",
        "\n",
        "zip_ref = zipfile.ZipFile(\"pizza_steak.zip\", \"r\")\n",
        "zip_ref.extractall()\n",
        "zip_ref.close()"
      ],
      "execution_count": 1,
      "outputs": [
        {
          "output_type": "stream",
          "name": "stdout",
          "text": [
            "--2021-10-11 06:24:57--  https://storage.googleapis.com/ztm_tf_course/food_vision/pizza_steak.zip\n",
            "Resolving storage.googleapis.com (storage.googleapis.com)... 173.194.196.128, 173.194.197.128, 64.233.191.128, ...\n",
            "Connecting to storage.googleapis.com (storage.googleapis.com)|173.194.196.128|:443... connected.\n",
            "HTTP request sent, awaiting response... 200 OK\n",
            "Length: 109579078 (105M) [application/zip]\n",
            "Saving to: ‘pizza_steak.zip’\n",
            "\n",
            "pizza_steak.zip     100%[===================>] 104.50M   163MB/s    in 0.6s    \n",
            "\n",
            "2021-10-11 06:24:58 (163 MB/s) - ‘pizza_steak.zip’ saved [109579078/109579078]\n",
            "\n"
          ]
        }
      ]
    },
    {
      "cell_type": "code",
      "metadata": {
        "id": "GTCAjmKlhGuL",
        "colab": {
          "base_uri": "https://localhost:8080/"
        },
        "outputId": "a9aca120-1f0e-48e7-a1bc-382545ca9c90"
      },
      "source": [
        "\n",
        "# Inspect the data\n",
        "\n",
        "!ls pizza_steak"
      ],
      "execution_count": 2,
      "outputs": [
        {
          "output_type": "stream",
          "name": "stdout",
          "text": [
            "test  train\n"
          ]
        }
      ]
    },
    {
      "cell_type": "code",
      "metadata": {
        "id": "INHujcf96Gfv",
        "colab": {
          "base_uri": "https://localhost:8080/"
        },
        "outputId": "856fd8c7-1504-4d45-d8d0-c78dbe171356"
      },
      "source": [
        "!ls pizza_steak/train"
      ],
      "execution_count": 3,
      "outputs": [
        {
          "output_type": "stream",
          "name": "stdout",
          "text": [
            "pizza  steak\n"
          ]
        }
      ]
    },
    {
      "cell_type": "code",
      "metadata": {
        "id": "wKAwbUlD6Nc-",
        "colab": {
          "base_uri": "https://localhost:8080/"
        },
        "outputId": "6fbacae5-d8dd-45d0-b018-04df26fe5f12"
      },
      "source": [
        "!ls pizza_steak/train/steak"
      ],
      "execution_count": 4,
      "outputs": [
        {
          "output_type": "stream",
          "name": "stdout",
          "text": [
            "1000205.jpg  1647351.jpg  2238681.jpg  2824680.jpg  3375959.jpg  417368.jpg\n",
            "100135.jpg   1650002.jpg  2238802.jpg  2825100.jpg  3381560.jpg  4176.jpg\n",
            "101312.jpg   165639.jpg   2254705.jpg  2826987.jpg  3382936.jpg  42125.jpg\n",
            "1021458.jpg  1658186.jpg  225990.jpg   2832499.jpg  3386119.jpg  421476.jpg\n",
            "1032846.jpg  1658443.jpg  2260231.jpg  2832960.jpg  3388717.jpg  421561.jpg\n",
            "10380.jpg    165964.jpg   2268692.jpg  285045.jpg   3389138.jpg  438871.jpg\n",
            "1049459.jpg  167069.jpg   2271133.jpg  285147.jpg   3393547.jpg  43924.jpg\n",
            "1053665.jpg  1675632.jpg  227576.jpg   2855315.jpg  3393688.jpg  440188.jpg\n",
            "1068516.jpg  1678108.jpg  2283057.jpg  2856066.jpg  3396589.jpg  442757.jpg\n",
            "1068975.jpg  168006.jpg   2286639.jpg  2859933.jpg  339891.jpg\t 443210.jpg\n",
            "1081258.jpg  1682496.jpg  2287136.jpg  286219.jpg   3417789.jpg  444064.jpg\n",
            "1090122.jpg  1684438.jpg  2291292.jpg  2862562.jpg  3425047.jpg  444709.jpg\n",
            "1093966.jpg  168775.jpg   229323.jpg   2865730.jpg  3434983.jpg  447557.jpg\n",
            "1098844.jpg  1697339.jpg  2300534.jpg  2878151.jpg  3435358.jpg  461187.jpg\n",
            "1100074.jpg  1710569.jpg  2300845.jpg  2880035.jpg  3438319.jpg  461689.jpg\n",
            "1105280.jpg  1714605.jpg  231296.jpg   2881783.jpg  3444407.jpg  465494.jpg\n",
            "1117936.jpg  1724387.jpg  2315295.jpg  2884233.jpg  345734.jpg\t 468384.jpg\n",
            "1126126.jpg  1724717.jpg  2323132.jpg  2890573.jpg  3460673.jpg  477486.jpg\n",
            "114601.jpg   172936.jpg   2324994.jpg  2893832.jpg  3465327.jpg  482022.jpg\n",
            "1147047.jpg  1736543.jpg  2327701.jpg  2893892.jpg  3466159.jpg  482465.jpg\n",
            "1147883.jpg  1736968.jpg  2331076.jpg  2907177.jpg  3469024.jpg  483788.jpg\n",
            "1155665.jpg  1746626.jpg  233964.jpg   290850.jpg   3470083.jpg  493029.jpg\n",
            "1163977.jpg  1752330.jpg  2344227.jpg  2909031.jpg  3476564.jpg  503589.jpg\n",
            "1190233.jpg  1761285.jpg  234626.jpg   2910418.jpg  3478318.jpg  510757.jpg\n",
            "1208405.jpg  176508.jpg   234704.jpg   2912290.jpg  3488748.jpg  513129.jpg\n",
            "1209120.jpg  1772039.jpg  2357281.jpg  2916448.jpg  3492328.jpg  513842.jpg\n",
            "1212161.jpg  1777107.jpg  2361812.jpg  2916967.jpg  3518960.jpg  523535.jpg\n",
            "1213988.jpg  1787505.jpg  2365287.jpg  2927833.jpg  3522209.jpg  525041.jpg\n",
            "1219039.jpg  179293.jpg   2374582.jpg  2928643.jpg  3524429.jpg  534560.jpg\n",
            "1225762.jpg  1816235.jpg  239025.jpg   2929179.jpg  3528458.jpg  534633.jpg\n",
            "1230968.jpg  1822407.jpg  2390628.jpg  2936477.jpg  3531805.jpg  536535.jpg\n",
            "1236155.jpg  1823263.jpg  2392910.jpg  2938012.jpg  3536023.jpg  541410.jpg\n",
            "1241193.jpg  1826066.jpg  2394465.jpg  2938151.jpg  3538682.jpg  543691.jpg\n",
            "1248337.jpg  1828502.jpg  2395127.jpg  2939678.jpg  3540750.jpg  560503.jpg\n",
            "1257104.jpg  1828969.jpg  2396291.jpg  2940544.jpg  354329.jpg\t 561972.jpg\n",
            "126345.jpg   1829045.jpg  2400975.jpg  2940621.jpg  3547166.jpg  56240.jpg\n",
            "1264050.jpg  1829088.jpg  2403776.jpg  2949079.jpg  3553911.jpg  56409.jpg\n",
            "1264154.jpg  1836332.jpg  2403907.jpg  295491.jpg   3556871.jpg  564530.jpg\n",
            "1264858.jpg  1839025.jpg  240435.jpg   296268.jpg   355715.jpg\t 568972.jpg\n",
            "127029.jpg   1839481.jpg  2404695.jpg  2964732.jpg  356234.jpg\t 576725.jpg\n",
            "1289900.jpg  183995.jpg   2404884.jpg  2965021.jpg  3571963.jpg  588739.jpg\n",
            "1290362.jpg  184110.jpg   2407770.jpg  2966859.jpg  3576078.jpg  590142.jpg\n",
            "1295457.jpg  184226.jpg   2412263.jpg  2977966.jpg  3577618.jpg  60633.jpg\n",
            "1312841.jpg  1846706.jpg  2425062.jpg  2979061.jpg  3577732.jpg  60655.jpg\n",
            "1313316.jpg  1849364.jpg  2425389.jpg  2983260.jpg  3578934.jpg  606820.jpg\n",
            "1324791.jpg  1849463.jpg  2435316.jpg  2984311.jpg  358042.jpg\t 612551.jpg\n",
            "1327567.jpg  1849542.jpg  2437268.jpg  2988960.jpg  358045.jpg\t 614975.jpg\n",
            "1327667.jpg  1853564.jpg  2437843.jpg  2989882.jpg  3591821.jpg  616809.jpg\n",
            "1333055.jpg  1869467.jpg  2440131.jpg  2995169.jpg  359330.jpg\t 628628.jpg\n",
            "1334054.jpg  1870942.jpg  2443168.jpg  2996324.jpg  3601483.jpg  632427.jpg\n",
            "1335556.jpg  187303.jpg   2446660.jpg  3000131.jpg  3606642.jpg  636594.jpg\n",
            "1337814.jpg  187521.jpg   2455944.jpg  3002350.jpg  3609394.jpg  637374.jpg\n",
            "1340977.jpg  1888450.jpg  2458401.jpg  3007772.jpg  361067.jpg\t 640539.jpg\n",
            "1343209.jpg  1889336.jpg  2487306.jpg  3008192.jpg  3613455.jpg  644777.jpg\n",
            "134369.jpg   1907039.jpg  248841.jpg   3009617.jpg  3621464.jpg  644867.jpg\n",
            "1344105.jpg  1925230.jpg  2489716.jpg  3011642.jpg  3621562.jpg  658189.jpg\n",
            "134598.jpg   1927984.jpg  2490489.jpg  3020591.jpg  3621565.jpg  660900.jpg\n",
            "1346387.jpg  1930577.jpg  2495884.jpg  3030578.jpg  3623556.jpg  663014.jpg\n",
            "1348047.jpg  1937872.jpg  2495903.jpg  3047807.jpg  3640915.jpg  664545.jpg\n",
            "1351372.jpg  1941807.jpg  2499364.jpg  3059843.jpg  3643951.jpg  667075.jpg\n",
            "1362989.jpg  1942333.jpg  2500292.jpg  3074367.jpg  3653129.jpg  669180.jpg\n",
            "1367035.jpg  1945132.jpg  2509017.jpg  3082120.jpg  3656752.jpg  669960.jpg\n",
            "1371177.jpg  1961025.jpg  250978.jpg   3094354.jpg  3663518.jpg  6709.jpg\n",
            "1375640.jpg  1966300.jpg  2514432.jpg  3095301.jpg  3663800.jpg  674001.jpg\n",
            "1382427.jpg  1966967.jpg  2526838.jpg  3099645.jpg  3664376.jpg  676189.jpg\n",
            "1392718.jpg  1969596.jpg  252858.jpg   3100476.jpg  3670607.jpg  681609.jpg\n",
            "1395906.jpg  1971757.jpg  2532239.jpg  3110387.jpg  3671021.jpg  6926.jpg\n",
            "1400760.jpg  1976160.jpg  2534567.jpg  3113772.jpg  3671877.jpg  703556.jpg\n",
            "1403005.jpg  1984271.jpg  2535431.jpg  3116018.jpg  368073.jpg\t 703909.jpg\n",
            "1404770.jpg  1987213.jpg  2535456.jpg  3128952.jpg  368162.jpg\t 704316.jpg\n",
            "140832.jpg   1987639.jpg  2538000.jpg  3130412.jpg  368170.jpg\t 714298.jpg\n",
            "141056.jpg   1995118.jpg  2543081.jpg  3136.jpg     3693649.jpg  720060.jpg\n",
            "141135.jpg   1995252.jpg  2544643.jpg  313851.jpg   3700079.jpg  726083.jpg\n",
            "1413972.jpg  199754.jpg   2547797.jpg  3140083.jpg  3704103.jpg  728020.jpg\n",
            "1421393.jpg  2002400.jpg  2548974.jpg  3140147.jpg  3707493.jpg  732986.jpg\n",
            "1428947.jpg  2011264.jpg  2549316.jpg  3142045.jpg  3716881.jpg  734445.jpg\n",
            "1433912.jpg  2012996.jpg  2561199.jpg  3142618.jpg  3724677.jpg  735441.jpg\n",
            "143490.jpg   2013535.jpg  2563233.jpg  3142674.jpg  3727036.jpg  740090.jpg\n",
            "1445352.jpg  2017387.jpg  256592.jpg   3143192.jpg  3727491.jpg  745189.jpg\n",
            "1446401.jpg  2018173.jpg  2568848.jpg  314359.jpg   3736065.jpg  752203.jpg\n",
            "1453991.jpg  2020613.jpg  2573392.jpg  3157832.jpg  37384.jpg\t 75537.jpg\n",
            "1456841.jpg  2032669.jpg  2592401.jpg  3159818.jpg  3743286.jpg  756655.jpg\n",
            "146833.jpg   203450.jpg   2599817.jpg  3162376.jpg  3745515.jpg  762210.jpg\n",
            "1476404.jpg  2034628.jpg  2603058.jpg  3168620.jpg  3750472.jpg  763690.jpg\n",
            "1485083.jpg  2036920.jpg  2606444.jpg  3171085.jpg  3752362.jpg  767442.jpg\n",
            "1487113.jpg  2038418.jpg  2614189.jpg  317206.jpg   3766099.jpg  786409.jpg\n",
            "148916.jpg   2042975.jpg  2614649.jpg  3173444.jpg  3770370.jpg  80215.jpg\n",
            "149087.jpg   2045647.jpg  2615718.jpg  3180182.jpg  377190.jpg\t 802348.jpg\n",
            "1493169.jpg  2050584.jpg  2619625.jpg  31881.jpg    3777020.jpg  804684.jpg\n",
            "149682.jpg   2052542.jpg  2622140.jpg  3191589.jpg  3777482.jpg  812163.jpg\n",
            "1508094.jpg  2056627.jpg  262321.jpg   3204977.jpg  3781152.jpg  813486.jpg\n",
            "1512226.jpg  2062248.jpg  2625330.jpg  320658.jpg   3787809.jpg  819027.jpg\n",
            "1512347.jpg  2081995.jpg  2628106.jpg  3209173.jpg  3788729.jpg  822550.jpg\n",
            "1524526.jpg  2087958.jpg  2629750.jpg  3223400.jpg  3790962.jpg  823766.jpg\n",
            "1530833.jpg  2088030.jpg  2643906.jpg  3223601.jpg  3792514.jpg  827764.jpg\n",
            "1539499.jpg  2088195.jpg  2644457.jpg  3241894.jpg  379737.jpg\t 830007.jpg\n",
            "1541672.jpg  2090493.jpg  2648423.jpg  3245533.jpg  3807440.jpg  838344.jpg\n",
            "1548239.jpg  2090504.jpg  2651300.jpg  3245622.jpg  381162.jpg\t 853327.jpg\n",
            "1550997.jpg  2125877.jpg  2653594.jpg  3247009.jpg  3812039.jpg  854150.jpg\n",
            "1552530.jpg  2129685.jpg  2661577.jpg  3253588.jpg  3829392.jpg  864997.jpg\n",
            "15580.jpg    2133717.jpg  2668916.jpg  3260624.jpg  3830872.jpg  885571.jpg\n",
            "1559052.jpg  2136662.jpg  268444.jpg   326587.jpg   38442.jpg\t 907107.jpg\n",
            "1563266.jpg  213765.jpg   2691461.jpg  32693.jpg    3855584.jpg  908261.jpg\n",
            "1567554.jpg  2138335.jpg  2706403.jpg  3271253.jpg  3857508.jpg  910672.jpg\n",
            "1575322.jpg  2140776.jpg  270687.jpg   3274423.jpg  386335.jpg\t 911803.jpg\n",
            "1588879.jpg  214320.jpg   2707522.jpg  3280453.jpg  3867460.jpg  91432.jpg\n",
            "1594719.jpg  2146963.jpg  2711806.jpg  3298495.jpg  3868959.jpg  914570.jpg\n",
            "1595869.jpg  215222.jpg   2716993.jpg  330182.jpg   3869679.jpg  922752.jpg\n",
            "1598345.jpg  2154126.jpg  2724554.jpg  3306627.jpg  388776.jpg\t 923772.jpg\n",
            "1598885.jpg  2154779.jpg  2738227.jpg  3315727.jpg  3890465.jpg  926414.jpg\n",
            "1600179.jpg  2159975.jpg  2748917.jpg  331860.jpg   3894222.jpg  931356.jpg\n",
            "1600794.jpg  2163079.jpg  2760475.jpg  332232.jpg   3895825.jpg  937133.jpg\n",
            "160552.jpg   217250.jpg   2761427.jpg  3322909.jpg  389739.jpg\t 945791.jpg\n",
            "1606596.jpg  2172600.jpg  2765887.jpg  332557.jpg   3916407.jpg  947877.jpg\n",
            "1615395.jpg  2173084.jpg  2768451.jpg  3326734.jpg  393349.jpg\t 952407.jpg\n",
            "1618011.jpg  217996.jpg   2771149.jpg  3330642.jpg  393494.jpg\t 952437.jpg\n",
            "1619357.jpg  2193684.jpg  2779040.jpg  3333128.jpg  398288.jpg\t 955466.jpg\n",
            "1621763.jpg  220341.jpg   2788312.jpg  3333735.jpg  40094.jpg\t 9555.jpg\n",
            "1623325.jpg  22080.jpg\t  2788759.jpg  3334973.jpg  401094.jpg\t 961341.jpg\n",
            "1624450.jpg  2216146.jpg  2796102.jpg  3335013.jpg  401144.jpg\t 97656.jpg\n",
            "1624747.jpg  2222018.jpg  280284.jpg   3335267.jpg  401651.jpg\t 979110.jpg\n",
            "1628861.jpg  2223787.jpg  2807888.jpg  3346787.jpg  405173.jpg\t 980247.jpg\n",
            "1632774.jpg  2230959.jpg  2815172.jpg  3364420.jpg  405794.jpg\t 982988.jpg\n",
            "1636831.jpg  2232310.jpg  2818805.jpg  336637.jpg   40762.jpg\t 987732.jpg\n",
            "1645470.jpg  2233395.jpg  2823872.jpg  3372616.jpg  413325.jpg\t 996684.jpg\n"
          ]
        }
      ]
    },
    {
      "cell_type": "code",
      "metadata": {
        "id": "hvh_VFJY6iw1",
        "colab": {
          "base_uri": "https://localhost:8080/"
        },
        "outputId": "3c243d1b-cf94-425c-b00b-b01d3e838cc7"
      },
      "source": [
        "import os\n",
        "\n",
        "# Walk through pizza_steak directory and list number of files\n",
        "for dirpath, dirnames, filenames in os.walk(\"pizza_steak\"):\n",
        "  print(f\"There are {len(dirnames)} directories and {len(filenames)} images in '{dirpath}'.\")"
      ],
      "execution_count": 5,
      "outputs": [
        {
          "output_type": "stream",
          "name": "stdout",
          "text": [
            "There are 2 directories and 1 images in 'pizza_steak'.\n",
            "There are 2 directories and 1 images in 'pizza_steak/test'.\n",
            "There are 0 directories and 250 images in 'pizza_steak/test/pizza'.\n",
            "There are 0 directories and 250 images in 'pizza_steak/test/steak'.\n",
            "There are 2 directories and 1 images in 'pizza_steak/train'.\n",
            "There are 0 directories and 750 images in 'pizza_steak/train/pizza'.\n",
            "There are 0 directories and 750 images in 'pizza_steak/train/steak'.\n"
          ]
        }
      ]
    },
    {
      "cell_type": "code",
      "metadata": {
        "id": "hU77RP4A7WmG",
        "colab": {
          "base_uri": "https://localhost:8080/"
        },
        "outputId": "6b7e4812-073d-4267-e42f-6c62953ac6d3"
      },
      "source": [
        "# Another way to find out how many images are in a file\n",
        "num_steak_images_train = len(os.listdir(\"pizza_steak/train/steak\"))\n",
        "\n",
        "num_steak_images_train"
      ],
      "execution_count": 6,
      "outputs": [
        {
          "output_type": "execute_result",
          "data": {
            "text/plain": [
              "750"
            ]
          },
          "metadata": {},
          "execution_count": 6
        }
      ]
    },
    {
      "cell_type": "code",
      "metadata": {
        "id": "HlBRwHwt7rDt",
        "colab": {
          "base_uri": "https://localhost:8080/"
        },
        "outputId": "f74a2002-58b9-4a93-d14c-38f1ce849126"
      },
      "source": [
        " # Get the class names (programmatically, this is much more helpful with a longer list of classes)\n",
        "import pathlib\n",
        "import numpy as np\n",
        "data_dir = pathlib.Path(\"pizza_steak/train/\") # turn our training path into a Python path\n",
        "class_names = np.array(sorted([item.name for item in data_dir.glob('*')])) # created a list of class_names from the subdirectories\n",
        "print(class_names)"
      ],
      "execution_count": 7,
      "outputs": [
        {
          "output_type": "stream",
          "name": "stdout",
          "text": [
            "['.DS_Store' 'pizza' 'steak']\n"
          ]
        }
      ]
    },
    {
      "cell_type": "code",
      "metadata": {
        "id": "aoDEl6dJ-hRk"
      },
      "source": [
        " # Visualize\n",
        "\n",
        " import matplotlib.pyplot as plt\n",
        " import matplotlib.image as mpimg\n",
        " import random\n",
        "\n",
        " def view_random_image(target_dir,target_class):\n",
        "\n",
        "   # setup the target directory\n",
        "\n",
        "   target_folder=target_dir+target_class\n",
        "   \n",
        "   # Get a random image path\n",
        "\n",
        "   random_image =random.sample(os.listdir(target_folder),1) \n",
        "   print(random_image)\n",
        "\n",
        "   # Read in the image and plot it using matplotlib\n",
        "   img=mpimg.imread(target_folder + \"/\" + random_image[0])\n",
        "   plt.imshow(img)\n",
        "   plt.title(target_class)\n",
        "   plt.axis(\"off\");\n",
        "\n",
        "   print(f\"Image shape: {img.shape}\") # show the shape of the image\n",
        "\n",
        "   return img\n",
        "\n",
        "   \n"
      ],
      "execution_count": 8,
      "outputs": []
    },
    {
      "cell_type": "code",
      "metadata": {
        "id": "ImYHVWva_MKz",
        "colab": {
          "base_uri": "https://localhost:8080/",
          "height": 298
        },
        "outputId": "66b368d4-7421-4c67-e4e8-17c8b1ee68ee"
      },
      "source": [
        "# View a random image from the training dataset\n",
        "\n",
        "img=view_random_image(target_dir=\"pizza_steak/train/\",\n",
        "                target_class=\"steak\")"
      ],
      "execution_count": 9,
      "outputs": [
        {
          "output_type": "stream",
          "name": "stdout",
          "text": [
            "['2146963.jpg']\n",
            "Image shape: (512, 384, 3)\n"
          ]
        },
        {
          "output_type": "display_data",
          "data": {
            "image/png": "[encoded data removed]",
            "text/plain": [
              "<Figure size 432x288 with 1 Axes>"
            ]
          },
          "metadata": {
            "needs_background": "light"
          }
        }
      ]
    },
    {
      "cell_type": "code",
      "metadata": {
        "id": "RKv1NHCTQveC",
        "colab": {
          "base_uri": "https://localhost:8080/"
        },
        "outputId": "6a5da6ae-dba0-490e-eea6-def042817f6c"
      },
      "source": [
        "# View the img\n",
        "\n",
        "img"
      ],
      "execution_count": 10,
      "outputs": [
        {
          "output_type": "execute_result",
          "data": {
            "text/plain": [
              "array([[[150, 156, 130],\n",
              "        [152, 158, 132],\n",
              "        [154, 160, 134],\n",
              "        ...,\n",
              "        [125, 127, 114],\n",
              "        [119, 121, 108],\n",
              "        [115, 117, 104]],\n",
              "\n",
              "       [[151, 157, 131],\n",
              "        [153, 159, 133],\n",
              "        [155, 161, 135],\n",
              "        ...,\n",
              "        [148, 151, 140],\n",
              "        [143, 146, 135],\n",
              "        [140, 143, 132]],\n",
              "\n",
              "       [[153, 158, 135],\n",
              "        [155, 160, 137],\n",
              "        [157, 162, 139],\n",
              "        ...,\n",
              "        [168, 171, 160],\n",
              "        [164, 167, 156],\n",
              "        [162, 165, 154]],\n",
              "\n",
              "       ...,\n",
              "\n",
              "       [[ 17,   1,   2],\n",
              "        [ 17,   1,   2],\n",
              "        [ 16,   1,   4],\n",
              "        ...,\n",
              "        [106,  90,  91],\n",
              "        [101,  85,  86],\n",
              "        [ 96,  80,  80]],\n",
              "\n",
              "       [[ 17,   1,   2],\n",
              "        [ 17,   1,   4],\n",
              "        [ 16,   1,   4],\n",
              "        ...,\n",
              "        [104,  88,  89],\n",
              "        [ 99,  83,  84],\n",
              "        [ 94,  78,  78]],\n",
              "\n",
              "       [[ 19,   3,   4],\n",
              "        [ 19,   3,   6],\n",
              "        [ 18,   3,   8],\n",
              "        ...,\n",
              "        [103,  87,  88],\n",
              "        [ 97,  81,  81],\n",
              "        [ 92,  76,  76]]], dtype=uint8)"
            ]
          },
          "metadata": {},
          "execution_count": 10
        }
      ]
    },
    {
      "cell_type": "code",
      "metadata": {
        "id": "mHQKfV1TUlUz",
        "colab": {
          "base_uri": "https://localhost:8080/"
        },
        "outputId": "9ee05f43-c568-4c4e-8f8d-3849eb259480"
      },
      "source": [
        "# View the image shape\n",
        "\n",
        "img.shape"
      ],
      "execution_count": 11,
      "outputs": [
        {
          "output_type": "execute_result",
          "data": {
            "text/plain": [
              "(512, 384, 3)"
            ]
          },
          "metadata": {},
          "execution_count": 11
        }
      ]
    },
    {
      "cell_type": "code",
      "metadata": {
        "id": "Llh9XwPaUsPC",
        "colab": {
          "base_uri": "https://localhost:8080/"
        },
        "outputId": "9af37306-0b96-4658-ddc4-431c6400e241"
      },
      "source": [
        "# Get all the pixel values between 0 & 1\n",
        "img/255."
      ],
      "execution_count": 12,
      "outputs": [
        {
          "output_type": "execute_result",
          "data": {
            "text/plain": [
              "array([[[0.58823529, 0.61176471, 0.50980392],\n",
              "        [0.59607843, 0.61960784, 0.51764706],\n",
              "        [0.60392157, 0.62745098, 0.5254902 ],\n",
              "        ...,\n",
              "        [0.49019608, 0.49803922, 0.44705882],\n",
              "        [0.46666667, 0.4745098 , 0.42352941],\n",
              "        [0.45098039, 0.45882353, 0.40784314]],\n",
              "\n",
              "       [[0.59215686, 0.61568627, 0.51372549],\n",
              "        [0.6       , 0.62352941, 0.52156863],\n",
              "        [0.60784314, 0.63137255, 0.52941176],\n",
              "        ...,\n",
              "        [0.58039216, 0.59215686, 0.54901961],\n",
              "        [0.56078431, 0.57254902, 0.52941176],\n",
              "        [0.54901961, 0.56078431, 0.51764706]],\n",
              "\n",
              "       [[0.6       , 0.61960784, 0.52941176],\n",
              "        [0.60784314, 0.62745098, 0.5372549 ],\n",
              "        [0.61568627, 0.63529412, 0.54509804],\n",
              "        ...,\n",
              "        [0.65882353, 0.67058824, 0.62745098],\n",
              "        [0.64313725, 0.65490196, 0.61176471],\n",
              "        [0.63529412, 0.64705882, 0.60392157]],\n",
              "\n",
              "       ...,\n",
              "\n",
              "       [[0.06666667, 0.00392157, 0.00784314],\n",
              "        [0.06666667, 0.00392157, 0.00784314],\n",
              "        [0.0627451 , 0.00392157, 0.01568627],\n",
              "        ...,\n",
              "        [0.41568627, 0.35294118, 0.35686275],\n",
              "        [0.39607843, 0.33333333, 0.3372549 ],\n",
              "        [0.37647059, 0.31372549, 0.31372549]],\n",
              "\n",
              "       [[0.06666667, 0.00392157, 0.00784314],\n",
              "        [0.06666667, 0.00392157, 0.01568627],\n",
              "        [0.0627451 , 0.00392157, 0.01568627],\n",
              "        ...,\n",
              "        [0.40784314, 0.34509804, 0.34901961],\n",
              "        [0.38823529, 0.3254902 , 0.32941176],\n",
              "        [0.36862745, 0.30588235, 0.30588235]],\n",
              "\n",
              "       [[0.0745098 , 0.01176471, 0.01568627],\n",
              "        [0.0745098 , 0.01176471, 0.02352941],\n",
              "        [0.07058824, 0.01176471, 0.03137255],\n",
              "        ...,\n",
              "        [0.40392157, 0.34117647, 0.34509804],\n",
              "        [0.38039216, 0.31764706, 0.31764706],\n",
              "        [0.36078431, 0.29803922, 0.29803922]]])"
            ]
          },
          "metadata": {},
          "execution_count": 12
        }
      ]
    },
    {
      "cell_type": "code",
      "metadata": {
        "id": "enbFgz1nVGs7"
      },
      "source": [
        "import tensorflow as tf\n",
        "\n",
        "from tensorflow.keras.preprocessing.image import ImageDataGenerator "
      ],
      "execution_count": 13,
      "outputs": []
    },
    {
      "cell_type": "code",
      "metadata": {
        "id": "J11PyET_pMFi",
        "colab": {
          "base_uri": "https://localhost:8080/"
        },
        "outputId": "18cae9d8-48e0-44e9-80ae-a562363c6a9f"
      },
      "source": [
        "#Set the random seed\n",
        "\n",
        "tf.random.set_seed(42)\n",
        "\n",
        "# Preprocess data\n",
        "\n",
        "train_datagen=ImageDataGenerator(rescale=1./255)\n",
        "valid_datagen=ImageDataGenerator(rescale=1./255)\n",
        "# Path of directories\n",
        "\n",
        "train_dir=\"/content/pizza_steak/train\"\n",
        "test_dir=\"/content/pizza_steak/test\"\n",
        "\n",
        "# Improve data ffrom directories and turn in into btaches\n",
        "\n",
        "train_data=train_datagen.flow_from_directory(directory=train_dir,\n",
        "                                              batch_size=32,\n",
        "                                              target_size=(224,224),\n",
        "                                              class_mode='binary',\n",
        "                                              seed=42)\n",
        " \n",
        "valid_data=valid_datagen.flow_from_directory(directory=test_dir,\n",
        "                                              batch_size=32,\n",
        "                                              target_size=(224,224),\n",
        "                                              class_mode='binary',\n",
        "                                              seed=42)\n",
        "\n",
        "# Build  a CNN model\n",
        "\n",
        "model_1 = tf.keras.models.Sequential([\n",
        "  tf.keras.layers.Conv2D(filters=10, \n",
        "                         kernel_size=3, # can also be (3, 3)\n",
        "                         activation=\"relu\", \n",
        "                         input_shape=(224, 224, 3)), # first layer specifies input shape (height, width, colour channels)\n",
        "  tf.keras.layers.Conv2D(10, 3, activation=\"relu\"),\n",
        "  tf.keras.layers.MaxPool2D(pool_size=2, # pool_size can also be (2, 2)\n",
        "                            padding=\"valid\"), # padding can also be 'same'\n",
        "  tf.keras.layers.Conv2D(10, 3, activation=\"relu\"),\n",
        "  tf.keras.layers.Conv2D(10, 3, activation=\"relu\"), # activation='relu' == tf.keras.layers.Activations(tf.nn.relu)\n",
        "  tf.keras.layers.MaxPool2D(2),\n",
        "  tf.keras.layers.Flatten(),\n",
        "  tf.keras.layers.Dense(1, activation=\"sigmoid\") # binary activation output\n",
        "])\n",
        "\n",
        "# Compile the model\n",
        "model_1.compile(loss=\"binary_crossentropy\",\n",
        "              optimizer=tf.keras.optimizers.Adam(),\n",
        "              metrics=[\"accuracy\"])\n",
        "\n",
        "# Fit the model\n",
        "history_1 = model_1.fit(train_data,\n",
        "                        epochs=5,\n",
        "                        steps_per_epoch=len(train_data),\n",
        "                        validation_data=valid_data,\n",
        "                        validation_steps=len(valid_data))"
      ],
      "execution_count": 14,
      "outputs": [
        {
          "output_type": "stream",
          "name": "stdout",
          "text": [
            "Found 1500 images belonging to 2 classes.\n",
            "Found 500 images belonging to 2 classes.\n",
            "Epoch 1/5\n",
            "47/47 [==============================] - 43s 258ms/step - loss: 0.5815 - accuracy: 0.6767 - val_loss: 0.4357 - val_accuracy: 0.8000\n",
            "Epoch 2/5\n",
            "47/47 [==============================] - 11s 232ms/step - loss: 0.4266 - accuracy: 0.8073 - val_loss: 0.3390 - val_accuracy: 0.8620\n",
            "Epoch 3/5\n",
            "47/47 [==============================] - 11s 229ms/step - loss: 0.3821 - accuracy: 0.8327 - val_loss: 0.3452 - val_accuracy: 0.8440\n",
            "Epoch 4/5\n",
            "47/47 [==============================] - 11s 226ms/step - loss: 0.3547 - accuracy: 0.8487 - val_loss: 0.3678 - val_accuracy: 0.8360\n",
            "Epoch 5/5\n",
            "47/47 [==============================] - 11s 231ms/step - loss: 0.3273 - accuracy: 0.8713 - val_loss: 0.3706 - val_accuracy: 0.8360\n"
          ]
        }
      ]
    },
    {
      "cell_type": "code",
      "metadata": {
        "id": "YTSHG-Q1p7Bj",
        "colab": {
          "base_uri": "https://localhost:8080/"
        },
        "outputId": "4c7b0dba-a311-4156-b51b-7f47dbc8ec74"
      },
      "source": [
        "# Model summary\n",
        "\n",
        "model_1.summary()"
      ],
      "execution_count": 15,
      "outputs": [
        {
          "output_type": "stream",
          "name": "stdout",
          "text": [
            "Model: \"sequential\"\n",
            "_________________________________________________________________\n",
            "Layer (type)                 Output Shape              Param #   \n",
            "=================================================================\n",
            "conv2d (Conv2D)              (None, 222, 222, 10)      280       \n",
            "_________________________________________________________________\n",
            "conv2d_1 (Conv2D)            (None, 220, 220, 10)      910       \n",
            "_________________________________________________________________\n",
            "max_pooling2d (MaxPooling2D) (None, 110, 110, 10)      0         \n",
            "_________________________________________________________________\n",
            "conv2d_2 (Conv2D)            (None, 108, 108, 10)      910       \n",
            "_________________________________________________________________\n",
            "conv2d_3 (Conv2D)            (None, 106, 106, 10)      910       \n",
            "_________________________________________________________________\n",
            "max_pooling2d_1 (MaxPooling2 (None, 53, 53, 10)        0         \n",
            "_________________________________________________________________\n",
            "flatten (Flatten)            (None, 28090)             0         \n",
            "_________________________________________________________________\n",
            "dense (Dense)                (None, 1)                 28091     \n",
            "=================================================================\n",
            "Total params: 31,101\n",
            "Trainable params: 31,101\n",
            "Non-trainable params: 0\n",
            "_________________________________________________________________\n"
          ]
        }
      ]
    },
    {
      "cell_type": "code",
      "metadata": {
        "id": "pV3D8cjV8LfZ",
        "colab": {
          "base_uri": "https://localhost:8080/"
        },
        "outputId": "21c127a7-8840-49fa-8ea2-3789bf515be6"
      },
      "source": [
        "# Another way\n",
        "\n",
        "tf.random.set_seed(42)\n",
        "\n",
        "model_2=tf.keras.Sequential([\n",
        "                             tf.keras.layers.Flatten(input_shape=(224,224,3)),\n",
        "                             tf.keras.layers.Dense(100,activation='relu'),\n",
        "                             tf.keras.layers.Dense(100,activation='relu'),\n",
        "                             tf.keras.layers.Dense(100,activation='relu'),\n",
        "                             tf.keras.layers.Dense(1,activation='sigmoid')\n",
        "])\n",
        "\n",
        "model_2.compile(loss='binary_crossentropy',\n",
        "                optimizer='Adam',\n",
        "                metrics=['accuracy'])\n",
        "\n",
        "history_2=model_2.fit(train_data,epochs=5,\n",
        "                       steps_per_epoch=len(train_data),\n",
        "                        validation_data=valid_data,\n",
        "                        validation_steps=len(valid_data))"
      ],
      "execution_count": 17,
      "outputs": [
        {
          "output_type": "stream",
          "name": "stdout",
          "text": [
            "Epoch 1/5\n",
            "47/47 [==============================] - 11s 214ms/step - loss: 2.2132 - accuracy: 0.6360 - val_loss: 0.6370 - val_accuracy: 0.7380\n",
            "Epoch 2/5\n",
            "47/47 [==============================] - 10s 208ms/step - loss: 0.6546 - accuracy: 0.7273 - val_loss: 0.4793 - val_accuracy: 0.7800\n",
            "Epoch 3/5\n",
            "47/47 [==============================] - 10s 206ms/step - loss: 0.9041 - accuracy: 0.6980 - val_loss: 0.5162 - val_accuracy: 0.7580\n",
            "Epoch 4/5\n",
            "47/47 [==============================] - 10s 204ms/step - loss: 0.5961 - accuracy: 0.7673 - val_loss: 0.6528 - val_accuracy: 0.6420\n",
            "Epoch 5/5\n",
            "47/47 [==============================] - 10s 205ms/step - loss: 0.6291 - accuracy: 0.7460 - val_loss: 0.5581 - val_accuracy: 0.7540\n"
          ]
        }
      ]
    },
    {
      "cell_type": "code",
      "metadata": {
        "colab": {
          "base_uri": "https://localhost:8080/"
        },
        "id": "QfPwZu6qDgBm",
        "outputId": "fbe30196-addb-41ea-a38b-5bf6ceeb07dc"
      },
      "source": [
        "# Model summary\n",
        "\n",
        "model_2.summary()"
      ],
      "execution_count": 18,
      "outputs": [
        {
          "output_type": "stream",
          "name": "stdout",
          "text": [
            "Model: \"sequential_1\"\n",
            "_________________________________________________________________\n",
            "Layer (type)                 Output Shape              Param #   \n",
            "=================================================================\n",
            "flatten_1 (Flatten)          (None, 150528)            0         \n",
            "_________________________________________________________________\n",
            "dense_1 (Dense)              (None, 100)               15052900  \n",
            "_________________________________________________________________\n",
            "dense_2 (Dense)              (None, 100)               10100     \n",
            "_________________________________________________________________\n",
            "dense_3 (Dense)              (None, 100)               10100     \n",
            "_________________________________________________________________\n",
            "dense_4 (Dense)              (None, 1)                 101       \n",
            "=================================================================\n",
            "Total params: 15,073,201\n",
            "Trainable params: 15,073,201\n",
            "Non-trainable params: 0\n",
            "_________________________________________________________________\n"
          ]
        }
      ]
    },
    {
      "cell_type": "markdown",
      "metadata": {
        "id": "05jjcKNLERz2"
      },
      "source": [
        "This goes to show the power of convolutional neural networks and their ability to learn patterns despite using less **parameters**"
      ]
    },
    {
      "cell_type": "code",
      "metadata": {
        "id": "xJivgVnVEL27"
      },
      "source": [
        ""
      ],
      "execution_count": null,
      "outputs": []
    }
  ]
}